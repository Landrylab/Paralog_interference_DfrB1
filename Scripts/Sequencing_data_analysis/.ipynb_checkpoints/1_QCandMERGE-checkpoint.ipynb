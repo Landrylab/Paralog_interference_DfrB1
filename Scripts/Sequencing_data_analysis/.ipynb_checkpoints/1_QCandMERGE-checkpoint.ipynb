{
 "cells": [
  {
   "cell_type": "markdown",
   "metadata": {},
   "source": [
    "# 001_sequencing_data_processing: \n",
    "\n",
    "This script performes the quality control with FastQC for the Nextera NovaSeq data. It then merges the reads and concatenated the lanes.\n",
    "\n",
    "This script assumes the following folder layout\n",
    "- Home folder\n",
    "    - Scripts folder with this script\n",
    "    - Data/Sequencing_data folder with the raw sequencing data\n",
    "    - Data/uni_amplicon_sequences with the indexes needed to demultiplex the data\n",
    "    - Data/Analysis_NovaSeq for the results \n",
    "    \n",
    "This script assumes the following programs are installed (paths to the executables need to be specified below):\n",
    "- FastQC\n",
    "- Pandaseq"
   ]
  },
  {
   "cell_type": "code",
   "execution_count": null,
   "metadata": {
    "collapsed": true
   },
   "outputs": [],
   "source": [
    "import os\n",
    "import subprocess\n",
    "\n",
    "import pandas as pd\n",
    "print(pd.__name__, pd.__version__)\n",
    "\n",
    "import numpy as np\n",
    "print(np.__name__, np.__version__)\n",
    "\n",
    "import matplotlib.pyplot as plt\n",
    "import matplotlib\n",
    "print(matplotlib.__name__, matplotlib.__version__)\n",
    "\n",
    "import scipy.stats as stats\n",
    "import scipy\n",
    "print(scipy.__name__, scipy.__version__)\n",
    "\n",
    "import re\n",
    "print(re.__name__, re.__version__)\n",
    "\n",
    "from collections import Counter\n",
    "\n",
    "import sys\n",
    "print(sys.version)\n",
    "\n",
    "import seaborn as sns\n",
    "from matplotlib.colors import LogNorm\n",
    "import matplotlib.gridspec as gridspec\n",
    "\n",
    "from Bio import SeqIO"
   ]
  },
  {
   "cell_type": "code",
   "execution_count": null,
   "metadata": {
    "collapsed": true
   },
   "outputs": [],
   "source": [
    "## Define FastQC path \n",
    "fastqc_path = '/path/to/fastqc'"
   ]
  },
  {
   "cell_type": "code",
   "execution_count": null,
   "metadata": {
    "collapsed": true
   },
   "outputs": [],
   "source": [
    "## Define some helper functions that will help us for the further analysis\n",
    "def reverse_complement(dna):\n",
    "    \"\"\" function that reverse complements DNA\n",
    "    dna: input dna sequence\n",
    "    \"\"\"\n",
    "    complement = {'A': 'T', 'C': 'G', 'G': 'C', 'T': 'A'}\n",
    "    return ''.join([complement[base] for base in dna[::-1]])\n",
    "\n",
    "def get_dict_of_seq(fasta_file):\n",
    "    \"\"\" function that converts a fasta file to a dictionnary of sequences\n",
    "    fasta_file: the input fasta file\n",
    "    \"\"\"\n",
    "    \n",
    "    file_fasta_dict = {}\n",
    "    # output dict of imported seqs\n",
    "    \n",
    "    with open(fasta_file, 'r') as fasta:    \n",
    "        for line in fasta:\n",
    "            # loops through the file\n",
    "\n",
    "            if line.startswith('>') == True:\n",
    "                seq_info = line.strip('>').strip('\\n').split('\\t')[0]\n",
    "                file_fasta_dict[seq_info] = ''\n",
    "                # checks if seq header\n",
    "\n",
    "            else:\n",
    "                file_fasta_dict[seq_info] += line.strip('\\n')\n",
    "                # If not, append nt to current seq\n",
    "                \n",
    "    return file_fasta_dict\n",
    "\n",
    "### This directory must be the Novaseq directory\n",
    "os.chdir(\"/path/Novaseq_data\")"
   ]
  },
  {
   "cell_type": "code",
   "execution_count": null,
   "metadata": {
    "collapsed": true
   },
   "outputs": [],
   "source": [
    "## Import the indexes to check the demultiplex\n",
    "\n",
    "universal_seqs_fasta = './Data/uni_amplicon_sequences/universal_amplicon_novaseq.fa'\n",
    "universal_seqs = get_dict_of_seq(universal_seqs_fasta)\n",
    "print(universal_seqs)\n",
    "\n",
    "indexes_fasta = './Data/uni_amplicon_sequences/indexes_novaseq.fa'\n",
    "indexes = get_dict_of_seq(indexes_fasta)\n",
    "print(indexes)\n",
    "\n",
    "indexes_F = './Data/uni_amplicon_sequences/indexes_novaseq_F.fa'\n",
    "indexes_F = get_dict_of_seq(indexes_F)\n",
    "print(indexes_F)\n",
    "indexes_R = './Data/uni_amplicon_sequences/indexes_novaseq_R.fa'\n",
    "indexes_R = get_dict_of_seq(indexes_R)\n",
    "print(indexes_R)\n",
    "\n",
    "degen_seq = 'AAAAA'"
   ]
  },
  {
   "cell_type": "markdown",
   "metadata": {},
   "source": [
    "# Start the Quality Control with FASTQC"
   ]
  },
  {
   "cell_type": "code",
   "execution_count": null,
   "metadata": {
    "collapsed": true
   },
   "outputs": [],
   "source": [
    "### Define the path for the raw data\n",
    "path_to_R1_file = '/path/sequencing/data/*R1.fastq.gz'\n",
    "path_to_R2_file = '/path/sequencing/data/*R2.fastq.gz'"
   ]
  },
  {
   "cell_type": "code",
   "execution_count": null,
   "metadata": {
    "collapsed": true
   },
   "outputs": [],
   "source": [
    "## FastQC quality control for R1\n",
    "subprocess.check_output(fastqc_path + ' ' + path_to_R1_file, shell=True)"
   ]
  },
  {
   "cell_type": "code",
   "execution_count": null,
   "metadata": {
    "collapsed": true
   },
   "outputs": [],
   "source": [
    "## FastQC quality control for R2\n",
    "subprocess.check_output(fastqc_path + ' ' +path_to_R2_file, shell=True)"
   ]
  },
  {
   "cell_type": "markdown",
   "metadata": {},
   "source": [
    "# Start merging with Pandaseq"
   ]
  },
  {
   "cell_type": "code",
   "execution_count": null,
   "metadata": {
    "collapsed": true
   },
   "outputs": [],
   "source": [
    "### Initialize intermediate folders for the analysis\n",
    "amplicon_sequences_path = \"./Data/Analysis_Novaseq/amplicon_sequences\"\n",
    "os.makedirs(amplicon_sequences_path, exist_ok = True)\n",
    "\n",
    "temp_path = './Data/Analysis_Novaseq/temp'\n",
    "os.makedirs(temp_path, exist_ok = True)\n",
    "\n",
    "### Define the path for the raw data\n",
    "path_to_files=\"./Data/Sequencing_data/\"\n"
   ]
  },
  {
   "cell_type": "code",
   "execution_count": null,
   "metadata": {
    "collapsed": true
   },
   "outputs": [],
   "source": [
    "### Before I start the merge, I need to unzip the fastq files using gunzip to go from .fasta.gz to .fastq:\n",
    "subprocess.check_output(\"gunzip ./Data/Sequencing_data/*.gz\", shell=True)"
   ]
  },
  {
   "cell_type": "code",
   "execution_count": 10,
   "metadata": {
    "collapsed": true
   },
   "outputs": [],
   "source": [
    "### Create the directory where the merged files are going to be saved\n",
    "os.makedirs(\"./Data/Analysis_Novaseq/merged_reads\", exist_ok = True)\n",
    "path_to_merged_files=\"./Data/Analysis_Novaseq/merged_reads\""
   ]
  },
  {
   "cell_type": "code",
   "execution_count": null,
   "metadata": {
    "collapsed": true
   },
   "outputs": [],
   "source": [
    "### Prepare a dictionary to identify the reads in the directory for the merging\n",
    "\n",
    "dict_path_to_files = {}\n",
    "\n",
    "for filename in os.listdir(path_to_files):\n",
    "    f = os.path.join(path_to_files, filename)\n",
    "    f1 = f.rstrip(\"_fastqc\")\n",
    "    \n",
    "    f3 = f1.rstrip(\"R1.\")\n",
    "    \n",
    "    f4 = f3.rstrip(\"R2.\")\n",
    "    \n",
    "    f5 = f4.rstrip(\"L001\")\n",
    "\n",
    "    sample_name=f5.lstrip(\"./Data/Sequencing_data/\")\n",
    "    \n",
    "    sample_name2=sample_name.rstrip(\"_S\")\n",
    "        \n",
    "    dict_path_to_files[sample_name2] = f5\n",
    "    \n",
    "        \n",
    "dict_path_to_files"
   ]
  },
  {
   "cell_type": "code",
   "execution_count": null,
   "metadata": {
    "collapsed": true
   },
   "outputs": [],
   "source": [
    "### Merge R1 and R2 \n",
    "\n",
    "merged_file_list = []\n",
    "\n",
    "# Loop through the files\n",
    "for filepath in dict_path_to_files.values():\n",
    "\n",
    "    filepath_for = filepath+'R1.fastq'\n",
    "    filepath_rev = filepath+'R2.fastq'\n",
    "\n",
    "    sample_read_count = 0\n",
    "\n",
    "    with open(filepath_for, 'r') as source:\n",
    "\n",
    "        for line in source:\n",
    "\n",
    "            if line.startswith('@A'):\n",
    "\n",
    "                sample_read_count += 1\n",
    "\n",
    "    if sample_read_count >= 1:\n",
    "\n",
    "        # Derive the name of the output file based on the input file\n",
    "        filepath_out_prefix = './Data/Analysis_Novaseq/merged_reads/'\n",
    "        \n",
    "        filepath_out = os.path.join(filepath + '_merged.fasta')\n",
    "\n",
    "        # Add to the list of merged files so we can keep working with it\n",
    "        merged_file_list.append(filepath_out)\n",
    "        \n",
    "        ## Pandaseq arguments:\n",
    "        # -f input file with forward reads\n",
    "        # -r input file with reverse reads\n",
    "        # -L maximum length for a sequence\n",
    "        # -O maximum overlap for a sequence\n",
    "        # -k kmers\n",
    "        # -B allow unbarcoded sequences\n",
    "        # -N eliminate all sequences with unknown nucleotides\n",
    "        # -t threshold (minimum probability a sequence must have to assemble)\n",
    "        # -T threads\n",
    "        # -w output file in fasta.bz2 format\n",
    "        panda_seq_call = 'pandaseq -f '+filepath_for+' -r '+filepath_rev+ ' -L 550 -O 400 -k 4 -B -N -t 0.5 -T 6 -w '+ filepath_out\n",
    "\n",
    "        subprocess.check_output(panda_seq_call, shell=True)\n",
    "        \n",
    "        print('--------')"
   ]
  },
  {
   "cell_type": "markdown",
   "metadata": {},
   "source": [
    "# CONTINUE IN THE 2_AGGandALIGN NOTEBOOK"
   ]
  }
 ],
 "metadata": {
  "kernelspec": {
   "display_name": "Python 3",
   "language": "python",
   "name": "python3"
  },
  "language_info": {
   "codemirror_mode": {
    "name": "ipython",
    "version": 2
   },
   "file_extension": ".py",
   "mimetype": "text/x-python",
   "name": "python",
   "nbconvert_exporter": "python",
   "pygments_lexer": "ipython2",
   "version": "2.7.11"
  }
 },
 "nbformat": 4,
 "nbformat_minor": 4
}
