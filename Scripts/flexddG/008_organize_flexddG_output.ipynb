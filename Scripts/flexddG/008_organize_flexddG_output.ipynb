{
 "cells": [
  {
   "cell_type": "markdown",
   "metadata": {},
   "source": [
    "# Organize Rosetta output\n",
    "\n",
    "This script will format the output of flexddG for our analysis script."
   ]
  },
  {
   "cell_type": "code",
   "execution_count": 2,
   "metadata": {
    "collapsed": true
   },
   "outputs": [],
   "source": [
    "# Load libraries\n",
    "import numpy as np\n",
    "import pandas as pd\n",
    "import matplotlib\n",
    "import csv\n",
    "import os\n",
    "import sys\n",
    "import subprocess\n",
    "from Bio.PDB import PDBParser, PDBIO\n",
    "import glob\n",
    "from Bio import SeqIO\n",
    "import re\n",
    "import json\n",
    "from collections import OrderedDict\n",
    "import seaborn as sns"
   ]
  },
  {
   "cell_type": "markdown",
   "metadata": {},
   "source": [
    "## Format the DMS data for NADPH"
   ]
  },
  {
   "cell_type": "code",
   "execution_count": null,
   "metadata": {
    "collapsed": true
   },
   "outputs": [],
   "source": [
    "## Load file\n",
    "dms_data_nadph = pd.read_csv('/path/results/NADPH', \n",
    "                       sep = ',')\n",
    "\n",
    "dms_data_nadph\n"
   ]
  },
  {
   "cell_type": "code",
   "execution_count": null,
   "metadata": {
    "collapsed": true
   },
   "outputs": [],
   "source": [
    "all_data_ddg_dms_NADPH = []\n",
    "\n",
    "## Make sure the mutation label column indicates which subunits are a WT copy\n",
    "new_list = []\n",
    "\n",
    "## Loop through the rows\n",
    "for index, row in dms_data_nadph.iterrows():\n",
    "\n",
    "    mut_dict = {'A': 'WT', 'B':'WT', 'C':'WT', 'D':'WT'}\n",
    "\n",
    "    mutation = row['mutation']    \n",
    "    mut_list = mutation.split(':')\n",
    "\n",
    "    for new_mut in mut_list:\n",
    "        mut_dict[new_mut[0]] = ''.join(new_mut.split('.')[1:])\n",
    "\n",
    "    mut_label = mut_dict['A'] + '_' + mut_dict['B'] + '_' + mut_dict['C'] + '_' + mut_dict['D']\n",
    "\n",
    "    new_row = [mutation, mut_label] + list(row[2:])\n",
    "    new_list.append(new_row)\n",
    "\n",
    "all_data_ddg_dms_NADPH = pd.DataFrame(new_list, columns = dms_data_nadph.columns)\n",
    "all_data_ddg_dms_NADPH"
   ]
  },
  {
   "cell_type": "code",
   "execution_count": null,
   "metadata": {
    "collapsed": true
   },
   "outputs": [],
   "source": [
    "all_data_ddg_dms_NADPH.to_csv('../../Data/Mutational_effects/all_results_DMS_NADPH_formatted.tsv', \n",
    "                             index = False, sep = '\\t')"
   ]
  },
  {
   "cell_type": "markdown",
   "metadata": {},
   "source": [
    "## Format the DMS data for DHF binding after NADPH"
   ]
  },
  {
   "cell_type": "code",
   "execution_count": null,
   "metadata": {
    "collapsed": true
   },
   "outputs": [],
   "source": [
    "## Load file\n",
    "dms_data_nadph_dhf = pd.read_csv('/path/flexddG/NADPH+DHF'), \n",
    "                       sep = ',')\n",
    "\n",
    "dms_data_nadph_dhf\n"
   ]
  },
  {
   "cell_type": "code",
   "execution_count": null,
   "metadata": {
    "collapsed": true
   },
   "outputs": [],
   "source": [
    "all_data_ddg_dms_NADPH_DHF = []\n",
    "\n",
    "## Make sure the mutation label column indicates which subunits are a WT copy\n",
    "new_list = []\n",
    "\n",
    "## Loop through the rows\n",
    "for index, row in dms_data_nadph_dhf.iterrows():\n",
    "\n",
    "    mut_dict = {'A': 'WT', 'B':'WT', 'C':'WT', 'D':'WT'}\n",
    "\n",
    "    mutation = row['mutation']    \n",
    "    mut_list = mutation.split(':')\n",
    "\n",
    "    for new_mut in mut_list:\n",
    "        mut_dict[new_mut[0]] = ''.join(new_mut.split('.')[1:])\n",
    "\n",
    "    mut_label = mut_dict['A'] + '_' + mut_dict['B'] + '_' + mut_dict['C'] + '_' + mut_dict['D']\n",
    "\n",
    "    new_row = [mutation, mut_label] + list(row[2:])\n",
    "    new_list.append(new_row)\n",
    "\n",
    "all_data_ddg_dms_NADPH_DHF= pd.DataFrame(new_list, columns = dms_data_nadph_dhf.columns)\n",
    "all_data_ddg_dms_NADPH_DHF"
   ]
  },
  {
   "cell_type": "code",
   "execution_count": null,
   "metadata": {
    "collapsed": true
   },
   "outputs": [],
   "source": [
    "all_data_ddg_dms_NADPH_DHF.to_csv('../../Data/Mutational_effects/all_results_DMS_NADPH_DHF_formatted.tsv', \n",
    "                             index = False, sep = '\\t')"
   ]
  },
  {
   "cell_type": "code",
   "execution_count": null,
   "metadata": {
    "collapsed": true
   },
   "outputs": [],
   "source": []
  }
 ],
 "metadata": {
  "kernelspec": {
   "display_name": "python3.8",
   "language": "python",
   "name": "python3.8"
  },
  "language_info": {
   "codemirror_mode": {
    "name": "ipython",
    "version": 3
   },
   "file_extension": ".py",
   "mimetype": "text/x-python",
   "name": "python",
   "nbconvert_exporter": "python",
   "pygments_lexer": "ipython3",
   "version": "3.8.5"
  }
 },
 "nbformat": 4,
 "nbformat_minor": 2
}
